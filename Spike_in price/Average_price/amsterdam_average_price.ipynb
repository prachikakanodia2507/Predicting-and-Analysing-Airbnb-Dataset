{
 "cells": [
  {
   "cell_type": "code",
   "execution_count": 1,
   "id": "b44483b9",
   "metadata": {},
   "outputs": [],
   "source": [
    "import numpy as np\n",
    "import pandas as pd\n",
    "import matplotlib.pyplot as plt\n",
    "import matplotlib.image as mpimg\n",
    "%matplotlib inline\n",
    "import seaborn as sns"
   ]
  },
  {
   "cell_type": "code",
   "execution_count": 2,
   "id": "775f6f61",
   "metadata": {},
   "outputs": [
    {
     "name": "stderr",
     "output_type": "stream",
     "text": [
      "<ipython-input-2-01cce4075bb6>:4: FutureWarning: The default value of regex will change from True to False in a future version. In addition, single character regular expressions will*not* be treated as literal strings when regex=True.\n",
      "  airbnb.price =airbnb.price.str.replace('$', '').str.replace(',', '').astype(float).astype(int)\n"
     ]
    },
    {
     "data": {
      "text/plain": [
       "0"
      ]
     },
     "execution_count": 2,
     "metadata": {},
     "output_type": "execute_result"
    }
   ],
   "source": [
    "airbnb=pd.read_csv(\"calendar_amster.csv\")\n",
    "airbnb.columns\n",
    "\n",
    "airbnb.price =airbnb.price.str.replace('$', '').str.replace(',', '').astype(float).astype(int)\n",
    "airbnb.price.isna().sum()"
   ]
  },
  {
   "cell_type": "code",
   "execution_count": 3,
   "id": "9d09a293",
   "metadata": {},
   "outputs": [
    {
     "name": "stdout",
     "output_type": "stream",
     "text": [
      "<class 'pandas.core.frame.DataFrame'>\n",
      "RangeIndex: 1971365 entries, 0 to 1971364\n",
      "Data columns (total 7 columns):\n",
      " #   Column          Dtype \n",
      "---  ------          ----- \n",
      " 0   listing_id      int64 \n",
      " 1   date            object\n",
      " 2   available       object\n",
      " 3   price           int32 \n",
      " 4   adjusted_price  object\n",
      " 5   minimum_nights  int64 \n",
      " 6   maximum_nights  int64 \n",
      "dtypes: int32(1), int64(3), object(3)\n",
      "memory usage: 97.8+ MB\n"
     ]
    }
   ],
   "source": [
    "airbnb.info()"
   ]
  },
  {
   "cell_type": "code",
   "execution_count": 4,
   "id": "82988824",
   "metadata": {},
   "outputs": [
    {
     "data": {
      "text/html": [
       "<div>\n",
       "<style scoped>\n",
       "    .dataframe tbody tr th:only-of-type {\n",
       "        vertical-align: middle;\n",
       "    }\n",
       "\n",
       "    .dataframe tbody tr th {\n",
       "        vertical-align: top;\n",
       "    }\n",
       "\n",
       "    .dataframe thead th {\n",
       "        text-align: right;\n",
       "    }\n",
       "</style>\n",
       "<table border=\"1\" class=\"dataframe\">\n",
       "  <thead>\n",
       "    <tr style=\"text-align: right;\">\n",
       "      <th></th>\n",
       "      <th>listing_id</th>\n",
       "      <th>date</th>\n",
       "      <th>available</th>\n",
       "      <th>price</th>\n",
       "      <th>adjusted_price</th>\n",
       "      <th>minimum_nights</th>\n",
       "      <th>maximum_nights</th>\n",
       "    </tr>\n",
       "  </thead>\n",
       "  <tbody>\n",
       "    <tr>\n",
       "      <th>0</th>\n",
       "      <td>2818</td>\n",
       "      <td>2021-11-04</td>\n",
       "      <td>f</td>\n",
       "      <td>59</td>\n",
       "      <td>$59.00</td>\n",
       "      <td>3</td>\n",
       "      <td>1125</td>\n",
       "    </tr>\n",
       "    <tr>\n",
       "      <th>1</th>\n",
       "      <td>522471</td>\n",
       "      <td>2021-11-04</td>\n",
       "      <td>f</td>\n",
       "      <td>180</td>\n",
       "      <td>$180.00</td>\n",
       "      <td>5</td>\n",
       "      <td>1125</td>\n",
       "    </tr>\n",
       "    <tr>\n",
       "      <th>2</th>\n",
       "      <td>522471</td>\n",
       "      <td>2021-11-05</td>\n",
       "      <td>f</td>\n",
       "      <td>180</td>\n",
       "      <td>$180.00</td>\n",
       "      <td>5</td>\n",
       "      <td>1125</td>\n",
       "    </tr>\n",
       "    <tr>\n",
       "      <th>3</th>\n",
       "      <td>522471</td>\n",
       "      <td>2021-11-06</td>\n",
       "      <td>f</td>\n",
       "      <td>180</td>\n",
       "      <td>$180.00</td>\n",
       "      <td>5</td>\n",
       "      <td>1125</td>\n",
       "    </tr>\n",
       "    <tr>\n",
       "      <th>4</th>\n",
       "      <td>522471</td>\n",
       "      <td>2021-11-07</td>\n",
       "      <td>f</td>\n",
       "      <td>180</td>\n",
       "      <td>$180.00</td>\n",
       "      <td>5</td>\n",
       "      <td>1125</td>\n",
       "    </tr>\n",
       "    <tr>\n",
       "      <th>...</th>\n",
       "      <td>...</td>\n",
       "      <td>...</td>\n",
       "      <td>...</td>\n",
       "      <td>...</td>\n",
       "      <td>...</td>\n",
       "      <td>...</td>\n",
       "      <td>...</td>\n",
       "    </tr>\n",
       "    <tr>\n",
       "      <th>1971360</th>\n",
       "      <td>53140075</td>\n",
       "      <td>2022-10-30</td>\n",
       "      <td>t</td>\n",
       "      <td>499</td>\n",
       "      <td>$499.00</td>\n",
       "      <td>3</td>\n",
       "      <td>1125</td>\n",
       "    </tr>\n",
       "    <tr>\n",
       "      <th>1971361</th>\n",
       "      <td>53140075</td>\n",
       "      <td>2022-10-31</td>\n",
       "      <td>t</td>\n",
       "      <td>499</td>\n",
       "      <td>$499.00</td>\n",
       "      <td>1</td>\n",
       "      <td>1125</td>\n",
       "    </tr>\n",
       "    <tr>\n",
       "      <th>1971362</th>\n",
       "      <td>53140075</td>\n",
       "      <td>2022-11-01</td>\n",
       "      <td>t</td>\n",
       "      <td>499</td>\n",
       "      <td>$499.00</td>\n",
       "      <td>1</td>\n",
       "      <td>1125</td>\n",
       "    </tr>\n",
       "    <tr>\n",
       "      <th>1971363</th>\n",
       "      <td>53140075</td>\n",
       "      <td>2022-11-02</td>\n",
       "      <td>t</td>\n",
       "      <td>499</td>\n",
       "      <td>$499.00</td>\n",
       "      <td>1</td>\n",
       "      <td>1125</td>\n",
       "    </tr>\n",
       "    <tr>\n",
       "      <th>1971364</th>\n",
       "      <td>53140075</td>\n",
       "      <td>2022-11-03</td>\n",
       "      <td>t</td>\n",
       "      <td>499</td>\n",
       "      <td>$499.00</td>\n",
       "      <td>3</td>\n",
       "      <td>1125</td>\n",
       "    </tr>\n",
       "  </tbody>\n",
       "</table>\n",
       "<p>1971365 rows × 7 columns</p>\n",
       "</div>"
      ],
      "text/plain": [
       "         listing_id        date available  price adjusted_price  \\\n",
       "0              2818  2021-11-04         f     59         $59.00   \n",
       "1            522471  2021-11-04         f    180        $180.00   \n",
       "2            522471  2021-11-05         f    180        $180.00   \n",
       "3            522471  2021-11-06         f    180        $180.00   \n",
       "4            522471  2021-11-07         f    180        $180.00   \n",
       "...             ...         ...       ...    ...            ...   \n",
       "1971360    53140075  2022-10-30         t    499        $499.00   \n",
       "1971361    53140075  2022-10-31         t    499        $499.00   \n",
       "1971362    53140075  2022-11-01         t    499        $499.00   \n",
       "1971363    53140075  2022-11-02         t    499        $499.00   \n",
       "1971364    53140075  2022-11-03         t    499        $499.00   \n",
       "\n",
       "         minimum_nights  maximum_nights  \n",
       "0                     3            1125  \n",
       "1                     5            1125  \n",
       "2                     5            1125  \n",
       "3                     5            1125  \n",
       "4                     5            1125  \n",
       "...                 ...             ...  \n",
       "1971360               3            1125  \n",
       "1971361               1            1125  \n",
       "1971362               1            1125  \n",
       "1971363               1            1125  \n",
       "1971364               3            1125  \n",
       "\n",
       "[1971365 rows x 7 columns]"
      ]
     },
     "execution_count": 4,
     "metadata": {},
     "output_type": "execute_result"
    }
   ],
   "source": [
    "airbnb[airbnb.price!=airbnb.adjusted_price]"
   ]
  },
  {
   "cell_type": "code",
   "execution_count": 5,
   "id": "ae8ffd5e",
   "metadata": {},
   "outputs": [
    {
     "data": {
      "text/plain": [
       "5401"
      ]
     },
     "execution_count": 5,
     "metadata": {},
     "output_type": "execute_result"
    }
   ],
   "source": [
    "airbnb.listing_id.nunique()"
   ]
  },
  {
   "cell_type": "code",
   "execution_count": 6,
   "id": "183f75bc",
   "metadata": {},
   "outputs": [
    {
     "name": "stderr",
     "output_type": "stream",
     "text": [
      "<ipython-input-6-9da6fd5f39e0>:2: FutureWarning: The default value of regex will change from True to False in a future version. In addition, single character regular expressions will*not* be treated as literal strings when regex=True.\n",
      "  airbnb['adjusted_price'] = airbnb['adjusted_price'].str.replace('$', '')\n"
     ]
    }
   ],
   "source": [
    "airbnb['adjusted_price'] = airbnb['adjusted_price'].str.replace(',', '')\n",
    "airbnb['adjusted_price'] = airbnb['adjusted_price'].str.replace('$', '')\n",
    "airbnb['adjusted_price'] =airbnb['adjusted_price'].astype(float)"
   ]
  },
  {
   "cell_type": "code",
   "execution_count": 7,
   "id": "37a6bf98",
   "metadata": {},
   "outputs": [],
   "source": [
    "cal2022 = airbnb[~airbnb['date'].str.contains(\"2021\")].reset_index(drop=True)"
   ]
  },
  {
   "cell_type": "code",
   "execution_count": 8,
   "id": "664cab1e",
   "metadata": {},
   "outputs": [
    {
     "name": "stderr",
     "output_type": "stream",
     "text": [
      "<ipython-input-8-85612300ede1>:1: FutureWarning: The default value of regex will change from True to False in a future version.\n",
      "  cal2022['date'] = cal2022.date.str.replace(r'(^.*2022-01-.*$)', 'january')\n",
      "<ipython-input-8-85612300ede1>:2: FutureWarning: The default value of regex will change from True to False in a future version.\n",
      "  cal2022['date'] = cal2022.date.str.replace(r'(^.*2022-02-.*$)', 'february')\n",
      "<ipython-input-8-85612300ede1>:3: FutureWarning: The default value of regex will change from True to False in a future version.\n",
      "  cal2022['date'] = cal2022.date.str.replace(r'(^.*2022-03-.*$)', 'march')\n",
      "<ipython-input-8-85612300ede1>:4: FutureWarning: The default value of regex will change from True to False in a future version.\n",
      "  cal2022['date'] = cal2022.date.str.replace(r'(^.*2022-04-.*$)', 'april')\n",
      "<ipython-input-8-85612300ede1>:5: FutureWarning: The default value of regex will change from True to False in a future version.\n",
      "  cal2022['date'] = cal2022.date.str.replace(r'(^.*2022-05-.*$)', 'may')\n",
      "<ipython-input-8-85612300ede1>:6: FutureWarning: The default value of regex will change from True to False in a future version.\n",
      "  cal2022['date'] = cal2022.date.str.replace(r'(^.*2022-06-.*$)', 'june')\n",
      "<ipython-input-8-85612300ede1>:7: FutureWarning: The default value of regex will change from True to False in a future version.\n",
      "  cal2022['date'] = cal2022.date.str.replace(r'(^.*2022-07-.*$)', 'july')\n",
      "<ipython-input-8-85612300ede1>:8: FutureWarning: The default value of regex will change from True to False in a future version.\n",
      "  cal2022['date'] = cal2022.date.str.replace(r'(^.*2022-08-.*$)', 'august')\n",
      "<ipython-input-8-85612300ede1>:9: FutureWarning: The default value of regex will change from True to False in a future version.\n",
      "  cal2022['date'] = cal2022.date.str.replace(r'(^.*2022-09-.*$)', 'septemer')\n",
      "<ipython-input-8-85612300ede1>:10: FutureWarning: The default value of regex will change from True to False in a future version.\n",
      "  cal2022['date'] = cal2022.date.str.replace(r'(^.*2022-10-.*$)', 'october')\n",
      "<ipython-input-8-85612300ede1>:11: FutureWarning: The default value of regex will change from True to False in a future version.\n",
      "  cal2022['date'] = cal2022.date.str.replace(r'(^.*2022-11-.*$)', 'november')\n",
      "<ipython-input-8-85612300ede1>:12: FutureWarning: The default value of regex will change from True to False in a future version.\n",
      "  cal2022['date'] = cal2022.date.str.replace(r'(^.*2022-12-.*$)', 'december')\n"
     ]
    }
   ],
   "source": [
    "cal2022['date'] = cal2022.date.str.replace(r'(^.*2022-01-.*$)', 'january')\n",
    "cal2022['date'] = cal2022.date.str.replace(r'(^.*2022-02-.*$)', 'february')\n",
    "cal2022['date'] = cal2022.date.str.replace(r'(^.*2022-03-.*$)', 'march')\n",
    "cal2022['date'] = cal2022.date.str.replace(r'(^.*2022-04-.*$)', 'april')\n",
    "cal2022['date'] = cal2022.date.str.replace(r'(^.*2022-05-.*$)', 'may')\n",
    "cal2022['date'] = cal2022.date.str.replace(r'(^.*2022-06-.*$)', 'june')\n",
    "cal2022['date'] = cal2022.date.str.replace(r'(^.*2022-07-.*$)', 'july')\n",
    "cal2022['date'] = cal2022.date.str.replace(r'(^.*2022-08-.*$)', 'august')\n",
    "cal2022['date'] = cal2022.date.str.replace(r'(^.*2022-09-.*$)', 'septemer')\n",
    "cal2022['date'] = cal2022.date.str.replace(r'(^.*2022-10-.*$)', 'october')\n",
    "cal2022['date'] = cal2022.date.str.replace(r'(^.*2022-11-.*$)', 'november')\n",
    "cal2022['date'] = cal2022.date.str.replace(r'(^.*2022-12-.*$)', 'december')"
   ]
  },
  {
   "cell_type": "code",
   "execution_count": 9,
   "id": "c56e87ce",
   "metadata": {},
   "outputs": [
    {
     "data": {
      "text/html": [
       "<div>\n",
       "<style scoped>\n",
       "    .dataframe tbody tr th:only-of-type {\n",
       "        vertical-align: middle;\n",
       "    }\n",
       "\n",
       "    .dataframe tbody tr th {\n",
       "        vertical-align: top;\n",
       "    }\n",
       "\n",
       "    .dataframe thead th {\n",
       "        text-align: right;\n",
       "    }\n",
       "</style>\n",
       "<table border=\"1\" class=\"dataframe\">\n",
       "  <thead>\n",
       "    <tr style=\"text-align: right;\">\n",
       "      <th></th>\n",
       "      <th>listing_id</th>\n",
       "      <th>date</th>\n",
       "      <th>available</th>\n",
       "      <th>price</th>\n",
       "      <th>adjusted_price</th>\n",
       "      <th>minimum_nights</th>\n",
       "      <th>maximum_nights</th>\n",
       "    </tr>\n",
       "  </thead>\n",
       "  <tbody>\n",
       "    <tr>\n",
       "      <th>0</th>\n",
       "      <td>522471</td>\n",
       "      <td>january</td>\n",
       "      <td>f</td>\n",
       "      <td>180</td>\n",
       "      <td>180.0</td>\n",
       "      <td>5</td>\n",
       "      <td>1125</td>\n",
       "    </tr>\n",
       "    <tr>\n",
       "      <th>1</th>\n",
       "      <td>522471</td>\n",
       "      <td>january</td>\n",
       "      <td>f</td>\n",
       "      <td>180</td>\n",
       "      <td>180.0</td>\n",
       "      <td>5</td>\n",
       "      <td>1125</td>\n",
       "    </tr>\n",
       "    <tr>\n",
       "      <th>2</th>\n",
       "      <td>522471</td>\n",
       "      <td>january</td>\n",
       "      <td>f</td>\n",
       "      <td>180</td>\n",
       "      <td>180.0</td>\n",
       "      <td>5</td>\n",
       "      <td>1125</td>\n",
       "    </tr>\n",
       "    <tr>\n",
       "      <th>3</th>\n",
       "      <td>522471</td>\n",
       "      <td>january</td>\n",
       "      <td>f</td>\n",
       "      <td>180</td>\n",
       "      <td>180.0</td>\n",
       "      <td>5</td>\n",
       "      <td>1125</td>\n",
       "    </tr>\n",
       "    <tr>\n",
       "      <th>4</th>\n",
       "      <td>522471</td>\n",
       "      <td>january</td>\n",
       "      <td>f</td>\n",
       "      <td>180</td>\n",
       "      <td>180.0</td>\n",
       "      <td>5</td>\n",
       "      <td>1125</td>\n",
       "    </tr>\n",
       "    <tr>\n",
       "      <th>...</th>\n",
       "      <td>...</td>\n",
       "      <td>...</td>\n",
       "      <td>...</td>\n",
       "      <td>...</td>\n",
       "      <td>...</td>\n",
       "      <td>...</td>\n",
       "      <td>...</td>\n",
       "    </tr>\n",
       "    <tr>\n",
       "      <th>1658102</th>\n",
       "      <td>53140075</td>\n",
       "      <td>october</td>\n",
       "      <td>t</td>\n",
       "      <td>499</td>\n",
       "      <td>499.0</td>\n",
       "      <td>3</td>\n",
       "      <td>1125</td>\n",
       "    </tr>\n",
       "    <tr>\n",
       "      <th>1658103</th>\n",
       "      <td>53140075</td>\n",
       "      <td>october</td>\n",
       "      <td>t</td>\n",
       "      <td>499</td>\n",
       "      <td>499.0</td>\n",
       "      <td>1</td>\n",
       "      <td>1125</td>\n",
       "    </tr>\n",
       "    <tr>\n",
       "      <th>1658104</th>\n",
       "      <td>53140075</td>\n",
       "      <td>november</td>\n",
       "      <td>t</td>\n",
       "      <td>499</td>\n",
       "      <td>499.0</td>\n",
       "      <td>1</td>\n",
       "      <td>1125</td>\n",
       "    </tr>\n",
       "    <tr>\n",
       "      <th>1658105</th>\n",
       "      <td>53140075</td>\n",
       "      <td>november</td>\n",
       "      <td>t</td>\n",
       "      <td>499</td>\n",
       "      <td>499.0</td>\n",
       "      <td>1</td>\n",
       "      <td>1125</td>\n",
       "    </tr>\n",
       "    <tr>\n",
       "      <th>1658106</th>\n",
       "      <td>53140075</td>\n",
       "      <td>november</td>\n",
       "      <td>t</td>\n",
       "      <td>499</td>\n",
       "      <td>499.0</td>\n",
       "      <td>3</td>\n",
       "      <td>1125</td>\n",
       "    </tr>\n",
       "  </tbody>\n",
       "</table>\n",
       "<p>1658107 rows × 7 columns</p>\n",
       "</div>"
      ],
      "text/plain": [
       "         listing_id      date available  price  adjusted_price  \\\n",
       "0            522471   january         f    180           180.0   \n",
       "1            522471   january         f    180           180.0   \n",
       "2            522471   january         f    180           180.0   \n",
       "3            522471   january         f    180           180.0   \n",
       "4            522471   january         f    180           180.0   \n",
       "...             ...       ...       ...    ...             ...   \n",
       "1658102    53140075   october         t    499           499.0   \n",
       "1658103    53140075   october         t    499           499.0   \n",
       "1658104    53140075  november         t    499           499.0   \n",
       "1658105    53140075  november         t    499           499.0   \n",
       "1658106    53140075  november         t    499           499.0   \n",
       "\n",
       "         minimum_nights  maximum_nights  \n",
       "0                     5            1125  \n",
       "1                     5            1125  \n",
       "2                     5            1125  \n",
       "3                     5            1125  \n",
       "4                     5            1125  \n",
       "...                 ...             ...  \n",
       "1658102               3            1125  \n",
       "1658103               1            1125  \n",
       "1658104               1            1125  \n",
       "1658105               1            1125  \n",
       "1658106               3            1125  \n",
       "\n",
       "[1658107 rows x 7 columns]"
      ]
     },
     "execution_count": 9,
     "metadata": {},
     "output_type": "execute_result"
    }
   ],
   "source": [
    "cal2022"
   ]
  },
  {
   "cell_type": "code",
   "execution_count": 10,
   "id": "e3ceb117",
   "metadata": {},
   "outputs": [
    {
     "data": {
      "text/plain": [
       "2021-11-04    5401\n",
       "2021-11-05    5401\n",
       "2021-11-06    5401\n",
       "2021-11-07    5401\n",
       "2021-11-08    5401\n",
       "              ... \n",
       "2022-10-30    5401\n",
       "2022-10-31    5401\n",
       "2022-11-01    5401\n",
       "2022-11-02    5401\n",
       "2022-11-03    5401\n",
       "Name: date, Length: 365, dtype: int64"
      ]
     },
     "execution_count": 10,
     "metadata": {},
     "output_type": "execute_result"
    }
   ],
   "source": [
    "del cal2022[\"price\"]\n",
    "del cal2022[\"available\"]\n",
    "del cal2022[\"minimum_nights\"]\n",
    "del cal2022[\"maximum_nights\"]\n",
    "airbnb.date.value_counts().sort_index()\n"
   ]
  },
  {
   "cell_type": "code",
   "execution_count": 11,
   "id": "e888132e",
   "metadata": {},
   "outputs": [],
   "source": [
    "month_price_avg = cal2022.groupby(['date']).mean()['adjusted_price']"
   ]
  },
  {
   "cell_type": "code",
   "execution_count": 17,
   "id": "6d37b0f2",
   "metadata": {},
   "outputs": [],
   "source": [
    "month_price_avg = month_price_avg.reindex(index=['january', 'february', 'march', 'april', 'may', 'june', 'july',\n",
    "                                                'august', 'septemer', 'october','november','december'])\n",
    "prices = list(month_price_avg)"
   ]
  },
  {
   "cell_type": "code",
   "execution_count": 18,
   "id": "6eac4581",
   "metadata": {},
   "outputs": [],
   "source": [
    "month_price_avg_df = pd.DataFrame(month_price_avg.index, prices)"
   ]
  },
  {
   "cell_type": "code",
   "execution_count": null,
   "id": "707eaf65",
   "metadata": {},
   "outputs": [],
   "source": []
  },
  {
   "cell_type": "code",
   "execution_count": 19,
   "id": "041e8dac",
   "metadata": {},
   "outputs": [
    {
     "data": {
      "text/html": [
       "<div>\n",
       "<style scoped>\n",
       "    .dataframe tbody tr th:only-of-type {\n",
       "        vertical-align: middle;\n",
       "    }\n",
       "\n",
       "    .dataframe tbody tr th {\n",
       "        vertical-align: top;\n",
       "    }\n",
       "\n",
       "    .dataframe thead th {\n",
       "        text-align: right;\n",
       "    }\n",
       "</style>\n",
       "<table border=\"1\" class=\"dataframe\">\n",
       "  <thead>\n",
       "    <tr style=\"text-align: right;\">\n",
       "      <th></th>\n",
       "      <th>month</th>\n",
       "      <th>avg_price</th>\n",
       "    </tr>\n",
       "  </thead>\n",
       "  <tbody>\n",
       "    <tr>\n",
       "      <th>0</th>\n",
       "      <td>january</td>\n",
       "      <td>172.226069</td>\n",
       "    </tr>\n",
       "    <tr>\n",
       "      <th>1</th>\n",
       "      <td>february</td>\n",
       "      <td>171.804064</td>\n",
       "    </tr>\n",
       "    <tr>\n",
       "      <th>2</th>\n",
       "      <td>march</td>\n",
       "      <td>174.590357</td>\n",
       "    </tr>\n",
       "    <tr>\n",
       "      <th>3</th>\n",
       "      <td>april</td>\n",
       "      <td>182.532494</td>\n",
       "    </tr>\n",
       "    <tr>\n",
       "      <th>4</th>\n",
       "      <td>may</td>\n",
       "      <td>181.692530</td>\n",
       "    </tr>\n",
       "    <tr>\n",
       "      <th>5</th>\n",
       "      <td>june</td>\n",
       "      <td>182.094569</td>\n",
       "    </tr>\n",
       "    <tr>\n",
       "      <th>6</th>\n",
       "      <td>july</td>\n",
       "      <td>183.700348</td>\n",
       "    </tr>\n",
       "    <tr>\n",
       "      <th>7</th>\n",
       "      <td>august</td>\n",
       "      <td>210.151913</td>\n",
       "    </tr>\n",
       "    <tr>\n",
       "      <th>8</th>\n",
       "      <td>septemer</td>\n",
       "      <td>227.518941</td>\n",
       "    </tr>\n",
       "    <tr>\n",
       "      <th>9</th>\n",
       "      <td>october</td>\n",
       "      <td>243.863191</td>\n",
       "    </tr>\n",
       "    <tr>\n",
       "      <th>10</th>\n",
       "      <td>november</td>\n",
       "      <td>NaN</td>\n",
       "    </tr>\n",
       "    <tr>\n",
       "      <th>11</th>\n",
       "      <td>december</td>\n",
       "      <td>NaN</td>\n",
       "    </tr>\n",
       "  </tbody>\n",
       "</table>\n",
       "</div>"
      ],
      "text/plain": [
       "       month   avg_price\n",
       "0    january  172.226069\n",
       "1   february  171.804064\n",
       "2      march  174.590357\n",
       "3      april  182.532494\n",
       "4        may  181.692530\n",
       "5       june  182.094569\n",
       "6       july  183.700348\n",
       "7     august  210.151913\n",
       "8   septemer  227.518941\n",
       "9    october  243.863191\n",
       "10  november         NaN\n",
       "11  december         NaN"
      ]
     },
     "execution_count": 19,
     "metadata": {},
     "output_type": "execute_result"
    }
   ],
   "source": [
    "\n",
    "month_price_avg_df.reset_index(inplace=True)\n",
    "month_price_avg_df.columns = ['avg_price', 'month']\n",
    "# re-ordering the columns\n",
    "\n",
    "month_price_avg_df = month_price_avg_df[['month', 'avg_price']]\n",
    "# this is the final dataframe to calculate the peak season and off season\n",
    "\n",
    "month_price_avg_df"
   ]
  },
  {
   "cell_type": "code",
   "execution_count": 20,
   "id": "6ebcab80",
   "metadata": {},
   "outputs": [
    {
     "data": {
      "image/png": "[encoded data removed]",
      "text/plain": [
       "<Figure size 432x288 with 1 Axes>"
      ]
     },
     "metadata": {
      "needs_background": "light"
     },
     "output_type": "display_data"
    }
   ],
   "source": [
    "plt.plot(month_price_avg_df.month, month_price_avg_df.avg_price);\n",
    "plt.xticks(rotation=45);\n",
    "plt.xlabel(\"Months\");\n",
    "plt.ylabel(\"Average Price in USD\");"
   ]
  },
  {
   "cell_type": "markdown",
   "id": "5d27d71e",
   "metadata": {},
   "source": [
    "august to october is the peak season and the price range is 210 to 245 dollar and in off season its range is from 171 to 183 dollar "
   ]
  },
  {
   "cell_type": "code",
   "execution_count": null,
   "id": "4fc43dfc",
   "metadata": {},
   "outputs": [],
   "source": []
  }
 ],
 "metadata": {
  "kernelspec": {
   "display_name": "Python 3",
   "language": "python",
   "name": "python3"
  },
  "language_info": {
   "codemirror_mode": {
    "name": "ipython",
    "version": 3
   },
   "file_extension": ".py",
   "mimetype": "text/x-python",
   "name": "python",
   "nbconvert_exporter": "python",
   "pygments_lexer": "ipython3",
   "version": "3.8.8"
  }
 },
 "nbformat": 4,
 "nbformat_minor": 5
}
