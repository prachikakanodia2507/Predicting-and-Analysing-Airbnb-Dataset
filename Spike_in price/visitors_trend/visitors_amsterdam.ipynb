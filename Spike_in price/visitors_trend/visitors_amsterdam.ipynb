{
 "cells": [
  {
   "cell_type": "code",
   "execution_count": 17,
   "id": "e926aa0f",
   "metadata": {},
   "outputs": [
    {
     "name": "stdout",
     "output_type": "stream",
     "text": [
      "reviews_summary : (266861, 6)\n"
     ]
    },
    {
     "data": {
      "text/html": [
       "<div>\n",
       "<style scoped>\n",
       "    .dataframe tbody tr th:only-of-type {\n",
       "        vertical-align: middle;\n",
       "    }\n",
       "\n",
       "    .dataframe tbody tr th {\n",
       "        vertical-align: top;\n",
       "    }\n",
       "\n",
       "    .dataframe thead th {\n",
       "        text-align: right;\n",
       "    }\n",
       "</style>\n",
       "<table border=\"1\" class=\"dataframe\">\n",
       "  <thead>\n",
       "    <tr style=\"text-align: right;\">\n",
       "      <th></th>\n",
       "      <th>listing_id</th>\n",
       "      <th>id</th>\n",
       "      <th>date</th>\n",
       "      <th>reviewer_id</th>\n",
       "      <th>reviewer_name</th>\n",
       "      <th>comments</th>\n",
       "    </tr>\n",
       "  </thead>\n",
       "  <tbody>\n",
       "    <tr>\n",
       "      <th>0</th>\n",
       "      <td>2818</td>\n",
       "      <td>1191</td>\n",
       "      <td>2009-03-30</td>\n",
       "      <td>10952</td>\n",
       "      <td>Lam</td>\n",
       "      <td>Daniel is really cool. The place was nice and ...</td>\n",
       "    </tr>\n",
       "    <tr>\n",
       "      <th>1</th>\n",
       "      <td>2818</td>\n",
       "      <td>1771</td>\n",
       "      <td>2009-04-24</td>\n",
       "      <td>12798</td>\n",
       "      <td>Alice</td>\n",
       "      <td>Daniel is the most amazing host! His place is ...</td>\n",
       "    </tr>\n",
       "    <tr>\n",
       "      <th>2</th>\n",
       "      <td>2818</td>\n",
       "      <td>1989</td>\n",
       "      <td>2009-05-03</td>\n",
       "      <td>11869</td>\n",
       "      <td>Natalja</td>\n",
       "      <td>We had such a great time in Amsterdam. Daniel ...</td>\n",
       "    </tr>\n",
       "    <tr>\n",
       "      <th>3</th>\n",
       "      <td>2818</td>\n",
       "      <td>2797</td>\n",
       "      <td>2009-05-18</td>\n",
       "      <td>14064</td>\n",
       "      <td>Enrique</td>\n",
       "      <td>Very professional operation. Room is very clea...</td>\n",
       "    </tr>\n",
       "    <tr>\n",
       "      <th>4</th>\n",
       "      <td>2818</td>\n",
       "      <td>3151</td>\n",
       "      <td>2009-05-25</td>\n",
       "      <td>17977</td>\n",
       "      <td>Sherwin</td>\n",
       "      <td>Daniel is highly recommended.  He provided all...</td>\n",
       "    </tr>\n",
       "    <tr>\n",
       "      <th>...</th>\n",
       "      <td>...</td>\n",
       "      <td>...</td>\n",
       "      <td>...</td>\n",
       "      <td>...</td>\n",
       "      <td>...</td>\n",
       "      <td>...</td>\n",
       "    </tr>\n",
       "    <tr>\n",
       "      <th>266856</th>\n",
       "      <td>52946755</td>\n",
       "      <td>483838034832851376</td>\n",
       "      <td>2021-10-29</td>\n",
       "      <td>6392852</td>\n",
       "      <td>New</td>\n",
       "      <td>Wauw! Honestly one of my best Airbnb experienc...</td>\n",
       "    </tr>\n",
       "    <tr>\n",
       "      <th>266857</th>\n",
       "      <td>52946755</td>\n",
       "      <td>484583230927988381</td>\n",
       "      <td>2021-10-30</td>\n",
       "      <td>95158280</td>\n",
       "      <td>Otto</td>\n",
       "      <td>Fantastic apartment at a very central location...</td>\n",
       "    </tr>\n",
       "    <tr>\n",
       "      <th>266858</th>\n",
       "      <td>52974738</td>\n",
       "      <td>485317387093868629</td>\n",
       "      <td>2021-10-31</td>\n",
       "      <td>194929002</td>\n",
       "      <td>Anna</td>\n",
       "      <td>Perfect spot to explore Amsterdam. The apartme...</td>\n",
       "    </tr>\n",
       "    <tr>\n",
       "      <th>266859</th>\n",
       "      <td>52974738</td>\n",
       "      <td>486692803591332704</td>\n",
       "      <td>2021-11-02</td>\n",
       "      <td>190439964</td>\n",
       "      <td>Sofie</td>\n",
       "      <td>Fijn en persoonlijk ontvangen, Tim is erg soci...</td>\n",
       "    </tr>\n",
       "    <tr>\n",
       "      <th>266860</th>\n",
       "      <td>53043715</td>\n",
       "      <td>485245643883644456</td>\n",
       "      <td>2021-10-31</td>\n",
       "      <td>370024592</td>\n",
       "      <td>Daniyal</td>\n",
       "      <td>Prakash was very humble, welcoming and helpful...</td>\n",
       "    </tr>\n",
       "  </tbody>\n",
       "</table>\n",
       "<p>266861 rows × 6 columns</p>\n",
       "</div>"
      ],
      "text/plain": [
       "        listing_id                  id        date  reviewer_id reviewer_name  \\\n",
       "0             2818                1191  2009-03-30        10952           Lam   \n",
       "1             2818                1771  2009-04-24        12798         Alice   \n",
       "2             2818                1989  2009-05-03        11869       Natalja   \n",
       "3             2818                2797  2009-05-18        14064       Enrique   \n",
       "4             2818                3151  2009-05-25        17977       Sherwin   \n",
       "...            ...                 ...         ...          ...           ...   \n",
       "266856    52946755  483838034832851376  2021-10-29      6392852           New   \n",
       "266857    52946755  484583230927988381  2021-10-30     95158280          Otto   \n",
       "266858    52974738  485317387093868629  2021-10-31    194929002          Anna   \n",
       "266859    52974738  486692803591332704  2021-11-02    190439964         Sofie   \n",
       "266860    53043715  485245643883644456  2021-10-31    370024592       Daniyal   \n",
       "\n",
       "                                                 comments  \n",
       "0       Daniel is really cool. The place was nice and ...  \n",
       "1       Daniel is the most amazing host! His place is ...  \n",
       "2       We had such a great time in Amsterdam. Daniel ...  \n",
       "3       Very professional operation. Room is very clea...  \n",
       "4       Daniel is highly recommended.  He provided all...  \n",
       "...                                                   ...  \n",
       "266856  Wauw! Honestly one of my best Airbnb experienc...  \n",
       "266857  Fantastic apartment at a very central location...  \n",
       "266858  Perfect spot to explore Amsterdam. The apartme...  \n",
       "266859  Fijn en persoonlijk ontvangen, Tim is erg soci...  \n",
       "266860  Prakash was very humble, welcoming and helpful...  \n",
       "\n",
       "[266861 rows x 6 columns]"
      ]
     },
     "execution_count": 17,
     "metadata": {},
     "output_type": "execute_result"
    }
   ],
   "source": [
    "import pandas as pd\n",
    "import matplotlib.pyplot as plt\n",
    "import datetime\n",
    "import warnings\n",
    "df_rsumm = pd.read_csv(\"reviews_amsterdam.csv\")\n",
    "print(\"reviews_summary : \" + str(df_rsumm.shape))\n",
    "df_rsumm"
   ]
  },
  {
   "cell_type": "code",
   "execution_count": 18,
   "id": "393011f2",
   "metadata": {},
   "outputs": [],
   "source": [
    "import datetime\n",
    "def mapper(month):\n",
    "    date = datetime.datetime(2000, month, 1)  # You need a dateobject with the proper month\n",
    "    return date.strftime('%b') "
   ]
  },
  {
   "cell_type": "code",
   "execution_count": 19,
   "id": "af83b9eb",
   "metadata": {},
   "outputs": [],
   "source": [
    "df_rsumm['date'] = pd.to_datetime(df_rsumm['date'])\n",
    "df_rsumm['year'] = df_rsumm['date'].dt.year\n",
    "df_rsumm['month'] = df_rsumm['date'].dt.month\n",
    "df_rsumm['day'] = df_rsumm['date'].dt.day\n",
    "\n",
    "df_rsumm['year'] = df_rsumm['year'].astype(int)\n",
    "df_rsumm['month'] = df_rsumm['month'].astype(int)\n",
    "df_rsumm['day'] = df_rsumm['day'].astype(int)\n",
    "df_rsumm.sort_values(['year', 'month'], ascending=[True, True],axis=0,inplace=True)"
   ]
  },
  {
   "cell_type": "code",
   "execution_count": 20,
   "id": "60d7c7da",
   "metadata": {},
   "outputs": [],
   "source": [
    "df_rsumm['month'] = df_rsumm['month'].apply(mapper)"
   ]
  },
  {
   "cell_type": "code",
   "execution_count": 21,
   "id": "ae715111",
   "metadata": {},
   "outputs": [],
   "source": [
    "df_rsumm_orig = df_rsumm.copy(deep=False) "
   ]
  },
  {
   "cell_type": "code",
   "execution_count": 22,
   "id": "5c84ce6c",
   "metadata": {},
   "outputs": [],
   "source": [
    "dropped = ['reviewer_name','comments']\n",
    "df_rsumm.drop(dropped,axis=1,inplace=True)"
   ]
  },
  {
   "cell_type": "code",
   "execution_count": 23,
   "id": "31097c63",
   "metadata": {},
   "outputs": [
    {
     "data": {
      "text/plain": [
       "2019    66122\n",
       "2018    51736\n",
       "2017    38915\n",
       "2021    27129\n",
       "2016    26581\n",
       "2020    25598\n",
       "2015    16521\n",
       "2014     8902\n",
       "2013     3989\n",
       "2012     1072\n",
       "2011      249\n",
       "2010       35\n",
       "2009       12\n",
       "Name: year, dtype: int64"
      ]
     },
     "execution_count": 23,
     "metadata": {},
     "output_type": "execute_result"
    }
   ],
   "source": [
    "df_rsumm['year'].value_counts()"
   ]
  },
  {
   "cell_type": "code",
   "execution_count": 24,
   "id": "8ad2a06d",
   "metadata": {},
   "outputs": [],
   "source": [
    "df_2019 = df_rsumm[df_rsumm['year'] == 2019]\n",
    "df_2018 = df_rsumm[df_rsumm['year'] == 2018]\n",
    "df_2017 = df_rsumm[df_rsumm['year'] == 2017]\n",
    "df_2020 = df_rsumm[df_rsumm['year'] == 2020]"
   ]
  },
  {
   "cell_type": "code",
   "execution_count": 25,
   "id": "85d141a8",
   "metadata": {},
   "outputs": [
    {
     "name": "stderr",
     "output_type": "stream",
     "text": [
      "D:\\anaconda3\\lib\\site-packages\\pandas\\core\\frame.py:4308: SettingWithCopyWarning: \n",
      "A value is trying to be set on a copy of a slice from a DataFrame\n",
      "\n",
      "See the caveats in the documentation: https://pandas.pydata.org/pandas-docs/stable/user_guide/indexing.html#returning-a-view-versus-a-copy\n",
      "  return super().drop(\n"
     ]
    }
   ],
   "source": [
    "dropped = ['year','day','id','date','listing_id']\n",
    "df_2019.drop(dropped,axis=1,inplace=True)\n",
    "df_2018.drop(dropped,axis=1,inplace=True)\n",
    "df_2017.drop(dropped,axis=1,inplace=True)\n",
    "df_2020.drop(dropped,axis=1,inplace=True)"
   ]
  },
  {
   "cell_type": "code",
   "execution_count": 26,
   "id": "b97c923a",
   "metadata": {},
   "outputs": [
    {
     "name": "stderr",
     "output_type": "stream",
     "text": [
      "<ipython-input-26-9a2a7c08a516>:1: SettingWithCopyWarning: \n",
      "A value is trying to be set on a copy of a slice from a DataFrame.\n",
      "Try using .loc[row_indexer,col_indexer] = value instead\n",
      "\n",
      "See the caveats in the documentation: https://pandas.pydata.org/pandas-docs/stable/user_guide/indexing.html#returning-a-view-versus-a-copy\n",
      "  df_2020[\"count\"] = df_2020.groupby(\"month\")[\"reviewer_id\"].transform('count')\n",
      "<ipython-input-26-9a2a7c08a516>:2: SettingWithCopyWarning: \n",
      "A value is trying to be set on a copy of a slice from a DataFrame.\n",
      "Try using .loc[row_indexer,col_indexer] = value instead\n",
      "\n",
      "See the caveats in the documentation: https://pandas.pydata.org/pandas-docs/stable/user_guide/indexing.html#returning-a-view-versus-a-copy\n",
      "  df_2019[\"count\"] = df_2019.groupby(\"month\")[\"reviewer_id\"].transform('count')\n",
      "<ipython-input-26-9a2a7c08a516>:3: SettingWithCopyWarning: \n",
      "A value is trying to be set on a copy of a slice from a DataFrame.\n",
      "Try using .loc[row_indexer,col_indexer] = value instead\n",
      "\n",
      "See the caveats in the documentation: https://pandas.pydata.org/pandas-docs/stable/user_guide/indexing.html#returning-a-view-versus-a-copy\n",
      "  df_2018[\"count\"] = df_2018.groupby(\"month\")[\"reviewer_id\"].transform('count')\n",
      "<ipython-input-26-9a2a7c08a516>:4: SettingWithCopyWarning: \n",
      "A value is trying to be set on a copy of a slice from a DataFrame.\n",
      "Try using .loc[row_indexer,col_indexer] = value instead\n",
      "\n",
      "See the caveats in the documentation: https://pandas.pydata.org/pandas-docs/stable/user_guide/indexing.html#returning-a-view-versus-a-copy\n",
      "  df_2017[\"count\"] = df_2017.groupby(\"month\")[\"reviewer_id\"].transform('count')\n"
     ]
    }
   ],
   "source": [
    "df_2020[\"count\"] = df_2020.groupby(\"month\")[\"reviewer_id\"].transform('count')\n",
    "df_2019[\"count\"] = df_2019.groupby(\"month\")[\"reviewer_id\"].transform('count')\n",
    "df_2018[\"count\"] = df_2018.groupby(\"month\")[\"reviewer_id\"].transform('count')\n",
    "df_2017[\"count\"] = df_2017.groupby(\"month\")[\"reviewer_id\"].transform('count')"
   ]
  },
  {
   "cell_type": "code",
   "execution_count": 27,
   "id": "bae27d85",
   "metadata": {},
   "outputs": [
    {
     "data": {
      "text/html": [
       "<div>\n",
       "<style scoped>\n",
       "    .dataframe tbody tr th:only-of-type {\n",
       "        vertical-align: middle;\n",
       "    }\n",
       "\n",
       "    .dataframe tbody tr th {\n",
       "        vertical-align: top;\n",
       "    }\n",
       "\n",
       "    .dataframe thead th {\n",
       "        text-align: right;\n",
       "    }\n",
       "</style>\n",
       "<table border=\"1\" class=\"dataframe\">\n",
       "  <thead>\n",
       "    <tr style=\"text-align: right;\">\n",
       "      <th></th>\n",
       "      <th>month</th>\n",
       "      <th>count</th>\n",
       "    </tr>\n",
       "  </thead>\n",
       "  <tbody>\n",
       "    <tr>\n",
       "      <th>0</th>\n",
       "      <td>Jan</td>\n",
       "      <td>4536</td>\n",
       "    </tr>\n",
       "    <tr>\n",
       "      <th>1</th>\n",
       "      <td>Feb</td>\n",
       "      <td>4807</td>\n",
       "    </tr>\n",
       "    <tr>\n",
       "      <th>2</th>\n",
       "      <td>Mar</td>\n",
       "      <td>2508</td>\n",
       "    </tr>\n",
       "    <tr>\n",
       "      <th>3</th>\n",
       "      <td>Apr</td>\n",
       "      <td>107</td>\n",
       "    </tr>\n",
       "    <tr>\n",
       "      <th>4</th>\n",
       "      <td>May</td>\n",
       "      <td>254</td>\n",
       "    </tr>\n",
       "    <tr>\n",
       "      <th>5</th>\n",
       "      <td>Jun</td>\n",
       "      <td>1236</td>\n",
       "    </tr>\n",
       "    <tr>\n",
       "      <th>6</th>\n",
       "      <td>Jul</td>\n",
       "      <td>3329</td>\n",
       "    </tr>\n",
       "    <tr>\n",
       "      <th>7</th>\n",
       "      <td>Aug</td>\n",
       "      <td>4226</td>\n",
       "    </tr>\n",
       "    <tr>\n",
       "      <th>8</th>\n",
       "      <td>Sep</td>\n",
       "      <td>2458</td>\n",
       "    </tr>\n",
       "    <tr>\n",
       "      <th>9</th>\n",
       "      <td>Oct</td>\n",
       "      <td>1045</td>\n",
       "    </tr>\n",
       "    <tr>\n",
       "      <th>10</th>\n",
       "      <td>Nov</td>\n",
       "      <td>488</td>\n",
       "    </tr>\n",
       "    <tr>\n",
       "      <th>11</th>\n",
       "      <td>Dec</td>\n",
       "      <td>604</td>\n",
       "    </tr>\n",
       "  </tbody>\n",
       "</table>\n",
       "</div>"
      ],
      "text/plain": [
       "   month  count\n",
       "0    Jan   4536\n",
       "1    Feb   4807\n",
       "2    Mar   2508\n",
       "3    Apr    107\n",
       "4    May    254\n",
       "5    Jun   1236\n",
       "6    Jul   3329\n",
       "7    Aug   4226\n",
       "8    Sep   2458\n",
       "9    Oct   1045\n",
       "10   Nov    488\n",
       "11   Dec    604"
      ]
     },
     "execution_count": 27,
     "metadata": {},
     "output_type": "execute_result"
    }
   ],
   "source": [
    "dropped = ['reviewer_id']\n",
    "df_2020.drop(dropped,axis=1,inplace=True)\n",
    "df_2019.drop(dropped,axis=1,inplace=True)\n",
    "df_2018.drop(dropped,axis=1,inplace=True)\n",
    "df_2017.drop(dropped,axis=1,inplace=True)\n",
    "df_2020 = df_2020.drop_duplicates()\n",
    "df_2019 = df_2019.drop_duplicates()\n",
    "df_2018 = df_2018.drop_duplicates()\n",
    "df_2017 = df_2017.drop_duplicates()\n",
    "df_2020=df_2020.reset_index(drop=True)\n",
    "df_2019=df_2019.reset_index(drop=True)\n",
    "df_2018=df_2018.reset_index(drop=True)\n",
    "df_2017=df_2017.reset_index(drop=True)\n",
    "\n",
    "df_2020"
   ]
  },
  {
   "cell_type": "code",
   "execution_count": 28,
   "id": "dda5a72b",
   "metadata": {},
   "outputs": [
    {
     "data": {
      "image/png": "[encoded data removed]",
      "text/plain": [
       "<Figure size 1440x432 with 4 Axes>"
      ]
     },
     "metadata": {
      "needs_background": "light"
     },
     "output_type": "display_data"
    }
   ],
   "source": [
    "\n",
    "fig = plt.figure(figsize=(20, 6))\n",
    "ax0 = fig.add_subplot(2, 2, 1)\n",
    "ax1 = fig.add_subplot(2, 2, 2)\n",
    "ax2 = fig.add_subplot(2, 2, 3)\n",
    "ax3 = fig.add_subplot(2, 2, 4)\n",
    "\n",
    "df_2020.plot(kind='line', color='blue', x='month',y='count',marker='o',ax=ax0) # add to subplot 1\n",
    "ax0.set_title('Visitors trend in 2020')\n",
    "ax0.set_xlabel('Month')\n",
    "ax0.set_ylabel('Number of visitors')\n",
    "\n",
    "df_2019.plot(kind='line', color='red', x='month',y='count',marker='o',ax=ax1) # add to subplot 2\n",
    "ax1.set_title('Visitors trend in 2019')\n",
    "ax1.set_xlabel('Month')\n",
    "ax1.set_ylabel('Number of visitors')\n",
    "\n",
    "df_2018.plot(kind='line', color='cyan', x='month',y='count',marker='o',ax=ax2) # add to subplot 3\n",
    "ax2.set_title('Visitors trend in 2018')\n",
    "ax2.set_xlabel('Month')\n",
    "ax2.set_ylabel('Number of visitors')\n",
    "\n",
    "df_2017.plot(kind='line', color='green', x='month',y='count',marker='o',ax=ax3) # add to subplot 4\n",
    "ax3.set_title('Visitors trend in 2017')\n",
    "ax3.set_xlabel('Month')\n",
    "ax3.set_ylabel('Number of visitors')\n",
    "\n",
    "plt.subplots_adjust(top = 0.99, bottom=0.01, hspace=0.5)\n",
    "plt.show()"
   ]
  },
  {
   "cell_type": "markdown",
   "id": "f5965b07",
   "metadata": {},
   "source": [
    "we can see april-may is the most demanded season\n",
    "and also in most cases 2019-2017 januray,march ,feb ,nov and dec is the off season excpet in 2020 april is the off season"
   ]
  },
  {
   "cell_type": "code",
   "execution_count": null,
   "id": "8357481e",
   "metadata": {},
   "outputs": [],
   "source": []
  }
 ],
 "metadata": {
  "kernelspec": {
   "display_name": "Python 3",
   "language": "python",
   "name": "python3"
  },
  "language_info": {
   "codemirror_mode": {
    "name": "ipython",
    "version": 3
   },
   "file_extension": ".py",
   "mimetype": "text/x-python",
   "name": "python",
   "nbconvert_exporter": "python",
   "pygments_lexer": "ipython3",
   "version": "3.8.8"
  }
 },
 "nbformat": 4,
 "nbformat_minor": 5
}
