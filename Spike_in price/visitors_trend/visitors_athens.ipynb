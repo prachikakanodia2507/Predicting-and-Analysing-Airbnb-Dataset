{
 "cells": [
  {
   "cell_type": "code",
   "execution_count": 1,
   "id": "e926aa0f",
   "metadata": {},
   "outputs": [
    {
     "name": "stdout",
     "output_type": "stream",
     "text": [
      "reviews_summary : (406607, 6)\n"
     ]
    },
    {
     "data": {
      "text/html": [
       "<div>\n",
       "<style scoped>\n",
       "    .dataframe tbody tr th:only-of-type {\n",
       "        vertical-align: middle;\n",
       "    }\n",
       "\n",
       "    .dataframe tbody tr th {\n",
       "        vertical-align: top;\n",
       "    }\n",
       "\n",
       "    .dataframe thead th {\n",
       "        text-align: right;\n",
       "    }\n",
       "</style>\n",
       "<table border=\"1\" class=\"dataframe\">\n",
       "  <thead>\n",
       "    <tr style=\"text-align: right;\">\n",
       "      <th></th>\n",
       "      <th>listing_id</th>\n",
       "      <th>id</th>\n",
       "      <th>date</th>\n",
       "      <th>reviewer_id</th>\n",
       "      <th>reviewer_name</th>\n",
       "      <th>comments</th>\n",
       "    </tr>\n",
       "  </thead>\n",
       "  <tbody>\n",
       "    <tr>\n",
       "      <th>0</th>\n",
       "      <td>10595</td>\n",
       "      <td>271535</td>\n",
       "      <td>2011-05-20</td>\n",
       "      <td>189305</td>\n",
       "      <td>Pamela</td>\n",
       "      <td>The apartment was wonderful, fully equiped, be...</td>\n",
       "    </tr>\n",
       "    <tr>\n",
       "      <th>1</th>\n",
       "      <td>10595</td>\n",
       "      <td>1994237</td>\n",
       "      <td>2012-08-15</td>\n",
       "      <td>289831</td>\n",
       "      <td>Andrey</td>\n",
       "      <td>Emmanouil was an excellent host. He provided u...</td>\n",
       "    </tr>\n",
       "    <tr>\n",
       "      <th>2</th>\n",
       "      <td>10595</td>\n",
       "      <td>4678609</td>\n",
       "      <td>2013-05-20</td>\n",
       "      <td>2635427</td>\n",
       "      <td>Ahmet</td>\n",
       "      <td>Manos is a very good host, he is kind and help...</td>\n",
       "    </tr>\n",
       "    <tr>\n",
       "      <th>3</th>\n",
       "      <td>10595</td>\n",
       "      <td>12502994</td>\n",
       "      <td>2014-05-04</td>\n",
       "      <td>2422327</td>\n",
       "      <td>Hema</td>\n",
       "      <td>Our stay in Emmanouil home was comfortable, qu...</td>\n",
       "    </tr>\n",
       "    <tr>\n",
       "      <th>4</th>\n",
       "      <td>10595</td>\n",
       "      <td>19482948</td>\n",
       "      <td>2014-09-13</td>\n",
       "      <td>6737784</td>\n",
       "      <td>Mariana</td>\n",
       "      <td>Fantastic accommodation very well located to v...</td>\n",
       "    </tr>\n",
       "    <tr>\n",
       "      <th>...</th>\n",
       "      <td>...</td>\n",
       "      <td>...</td>\n",
       "      <td>...</td>\n",
       "      <td>...</td>\n",
       "      <td>...</td>\n",
       "      <td>...</td>\n",
       "    </tr>\n",
       "    <tr>\n",
       "      <th>406602</th>\n",
       "      <td>52744529</td>\n",
       "      <td>480858944526547665</td>\n",
       "      <td>2021-10-25</td>\n",
       "      <td>428203290</td>\n",
       "      <td>Daniel</td>\n",
       "      <td>The place is brand new, tastefully furnished a...</td>\n",
       "    </tr>\n",
       "    <tr>\n",
       "      <th>406603</th>\n",
       "      <td>52744828</td>\n",
       "      <td>477946268646295799</td>\n",
       "      <td>2021-10-21</td>\n",
       "      <td>38335433</td>\n",
       "      <td>Dwight</td>\n",
       "      <td>Great and clean apartment. All devices were ne...</td>\n",
       "    </tr>\n",
       "    <tr>\n",
       "      <th>406604</th>\n",
       "      <td>52752849</td>\n",
       "      <td>475078723035808532</td>\n",
       "      <td>2021-10-17</td>\n",
       "      <td>426629667</td>\n",
       "      <td>Yana</td>\n",
       "      <td>Thank you for a five star stay! We felt comple...</td>\n",
       "    </tr>\n",
       "    <tr>\n",
       "      <th>406605</th>\n",
       "      <td>52809823</td>\n",
       "      <td>480142876553393403</td>\n",
       "      <td>2021-10-24</td>\n",
       "      <td>269071645</td>\n",
       "      <td>Vasiliki</td>\n",
       "      <td>Ευχαριστω ολα ηταν πολυ καλα.</td>\n",
       "    </tr>\n",
       "    <tr>\n",
       "      <th>406606</th>\n",
       "      <td>52810712</td>\n",
       "      <td>477950806520069639</td>\n",
       "      <td>2021-10-21</td>\n",
       "      <td>168943760</td>\n",
       "      <td>Chris</td>\n",
       "      <td>The apartment was excellent. &lt;br/&gt;Spacious, su...</td>\n",
       "    </tr>\n",
       "  </tbody>\n",
       "</table>\n",
       "<p>406607 rows × 6 columns</p>\n",
       "</div>"
      ],
      "text/plain": [
       "        listing_id                  id        date  reviewer_id reviewer_name  \\\n",
       "0            10595              271535  2011-05-20       189305        Pamela   \n",
       "1            10595             1994237  2012-08-15       289831        Andrey   \n",
       "2            10595             4678609  2013-05-20      2635427         Ahmet   \n",
       "3            10595            12502994  2014-05-04      2422327          Hema   \n",
       "4            10595            19482948  2014-09-13      6737784       Mariana   \n",
       "...            ...                 ...         ...          ...           ...   \n",
       "406602    52744529  480858944526547665  2021-10-25    428203290        Daniel   \n",
       "406603    52744828  477946268646295799  2021-10-21     38335433        Dwight   \n",
       "406604    52752849  475078723035808532  2021-10-17    426629667          Yana   \n",
       "406605    52809823  480142876553393403  2021-10-24    269071645      Vasiliki   \n",
       "406606    52810712  477950806520069639  2021-10-21    168943760         Chris   \n",
       "\n",
       "                                                 comments  \n",
       "0       The apartment was wonderful, fully equiped, be...  \n",
       "1       Emmanouil was an excellent host. He provided u...  \n",
       "2       Manos is a very good host, he is kind and help...  \n",
       "3       Our stay in Emmanouil home was comfortable, qu...  \n",
       "4       Fantastic accommodation very well located to v...  \n",
       "...                                                   ...  \n",
       "406602  The place is brand new, tastefully furnished a...  \n",
       "406603  Great and clean apartment. All devices were ne...  \n",
       "406604  Thank you for a five star stay! We felt comple...  \n",
       "406605                      Ευχαριστω ολα ηταν πολυ καλα.  \n",
       "406606  The apartment was excellent. <br/>Spacious, su...  \n",
       "\n",
       "[406607 rows x 6 columns]"
      ]
     },
     "execution_count": 1,
     "metadata": {},
     "output_type": "execute_result"
    }
   ],
   "source": [
    "import pandas as pd\n",
    "import matplotlib.pyplot as plt\n",
    "import datetime\n",
    "import warnings\n",
    "df_rsumm = pd.read_csv(\"reviews_athens.csv\")\n",
    "print(\"reviews_summary : \" + str(df_rsumm.shape))\n",
    "df_rsumm"
   ]
  },
  {
   "cell_type": "code",
   "execution_count": 2,
   "id": "393011f2",
   "metadata": {},
   "outputs": [],
   "source": [
    "import datetime\n",
    "def mapper(month):\n",
    "    date = datetime.datetime(2000, month, 1)  # You need a dateobject with the proper month\n",
    "    return date.strftime('%b') "
   ]
  },
  {
   "cell_type": "code",
   "execution_count": 3,
   "id": "af83b9eb",
   "metadata": {},
   "outputs": [],
   "source": [
    "df_rsumm['date'] = pd.to_datetime(df_rsumm['date'])\n",
    "df_rsumm['year'] = df_rsumm['date'].dt.year\n",
    "df_rsumm['month'] = df_rsumm['date'].dt.month\n",
    "df_rsumm['day'] = df_rsumm['date'].dt.day\n",
    "\n",
    "df_rsumm['year'] = df_rsumm['year'].astype(int)\n",
    "df_rsumm['month'] = df_rsumm['month'].astype(int)\n",
    "df_rsumm['day'] = df_rsumm['day'].astype(int)\n",
    "df_rsumm.sort_values(['year', 'month'], ascending=[True, True],axis=0,inplace=True)"
   ]
  },
  {
   "cell_type": "code",
   "execution_count": 4,
   "id": "60d7c7da",
   "metadata": {},
   "outputs": [],
   "source": [
    "df_rsumm['month'] = df_rsumm['month'].apply(mapper)"
   ]
  },
  {
   "cell_type": "code",
   "execution_count": 5,
   "id": "ae715111",
   "metadata": {},
   "outputs": [],
   "source": [
    "df_rsumm_orig = df_rsumm.copy(deep=False) "
   ]
  },
  {
   "cell_type": "code",
   "execution_count": 6,
   "id": "5c84ce6c",
   "metadata": {},
   "outputs": [],
   "source": [
    "dropped = ['reviewer_name','comments']\n",
    "df_rsumm.drop(dropped,axis=1,inplace=True)"
   ]
  },
  {
   "cell_type": "code",
   "execution_count": 7,
   "id": "31097c63",
   "metadata": {},
   "outputs": [
    {
     "data": {
      "text/plain": [
       "2019    120965\n",
       "2018     78365\n",
       "2021     77190\n",
       "2020     52196\n",
       "2017     42702\n",
       "2016     20092\n",
       "2015      9531\n",
       "2014      3693\n",
       "2013      1393\n",
       "2012       359\n",
       "2011       117\n",
       "2010         4\n",
       "Name: year, dtype: int64"
      ]
     },
     "execution_count": 7,
     "metadata": {},
     "output_type": "execute_result"
    }
   ],
   "source": [
    "df_rsumm['year'].value_counts()"
   ]
  },
  {
   "cell_type": "code",
   "execution_count": 8,
   "id": "8ad2a06d",
   "metadata": {},
   "outputs": [],
   "source": [
    "df_2019 = df_rsumm[df_rsumm['year'] == 2019]\n",
    "df_2018 = df_rsumm[df_rsumm['year'] == 2018]\n",
    "df_2017 = df_rsumm[df_rsumm['year'] == 2017]\n",
    "df_2020 = df_rsumm[df_rsumm['year'] == 2020]"
   ]
  },
  {
   "cell_type": "code",
   "execution_count": 9,
   "id": "85d141a8",
   "metadata": {},
   "outputs": [
    {
     "name": "stderr",
     "output_type": "stream",
     "text": [
      "D:\\anaconda3\\lib\\site-packages\\pandas\\core\\frame.py:4308: SettingWithCopyWarning: \n",
      "A value is trying to be set on a copy of a slice from a DataFrame\n",
      "\n",
      "See the caveats in the documentation: https://pandas.pydata.org/pandas-docs/stable/user_guide/indexing.html#returning-a-view-versus-a-copy\n",
      "  return super().drop(\n"
     ]
    }
   ],
   "source": [
    "dropped = ['year','day','id','date','listing_id']\n",
    "df_2019.drop(dropped,axis=1,inplace=True)\n",
    "df_2018.drop(dropped,axis=1,inplace=True)\n",
    "df_2017.drop(dropped,axis=1,inplace=True)\n",
    "df_2020.drop(dropped,axis=1,inplace=True)"
   ]
  },
  {
   "cell_type": "code",
   "execution_count": 10,
   "id": "b97c923a",
   "metadata": {},
   "outputs": [
    {
     "name": "stderr",
     "output_type": "stream",
     "text": [
      "<ipython-input-10-9a2a7c08a516>:1: SettingWithCopyWarning: \n",
      "A value is trying to be set on a copy of a slice from a DataFrame.\n",
      "Try using .loc[row_indexer,col_indexer] = value instead\n",
      "\n",
      "See the caveats in the documentation: https://pandas.pydata.org/pandas-docs/stable/user_guide/indexing.html#returning-a-view-versus-a-copy\n",
      "  df_2020[\"count\"] = df_2020.groupby(\"month\")[\"reviewer_id\"].transform('count')\n",
      "<ipython-input-10-9a2a7c08a516>:2: SettingWithCopyWarning: \n",
      "A value is trying to be set on a copy of a slice from a DataFrame.\n",
      "Try using .loc[row_indexer,col_indexer] = value instead\n",
      "\n",
      "See the caveats in the documentation: https://pandas.pydata.org/pandas-docs/stable/user_guide/indexing.html#returning-a-view-versus-a-copy\n",
      "  df_2019[\"count\"] = df_2019.groupby(\"month\")[\"reviewer_id\"].transform('count')\n",
      "<ipython-input-10-9a2a7c08a516>:3: SettingWithCopyWarning: \n",
      "A value is trying to be set on a copy of a slice from a DataFrame.\n",
      "Try using .loc[row_indexer,col_indexer] = value instead\n",
      "\n",
      "See the caveats in the documentation: https://pandas.pydata.org/pandas-docs/stable/user_guide/indexing.html#returning-a-view-versus-a-copy\n",
      "  df_2018[\"count\"] = df_2018.groupby(\"month\")[\"reviewer_id\"].transform('count')\n",
      "<ipython-input-10-9a2a7c08a516>:4: SettingWithCopyWarning: \n",
      "A value is trying to be set on a copy of a slice from a DataFrame.\n",
      "Try using .loc[row_indexer,col_indexer] = value instead\n",
      "\n",
      "See the caveats in the documentation: https://pandas.pydata.org/pandas-docs/stable/user_guide/indexing.html#returning-a-view-versus-a-copy\n",
      "  df_2017[\"count\"] = df_2017.groupby(\"month\")[\"reviewer_id\"].transform('count')\n"
     ]
    }
   ],
   "source": [
    "df_2020[\"count\"] = df_2020.groupby(\"month\")[\"reviewer_id\"].transform('count')\n",
    "df_2019[\"count\"] = df_2019.groupby(\"month\")[\"reviewer_id\"].transform('count')\n",
    "df_2018[\"count\"] = df_2018.groupby(\"month\")[\"reviewer_id\"].transform('count')\n",
    "df_2017[\"count\"] = df_2017.groupby(\"month\")[\"reviewer_id\"].transform('count')"
   ]
  },
  {
   "cell_type": "code",
   "execution_count": 11,
   "id": "bae27d85",
   "metadata": {},
   "outputs": [
    {
     "data": {
      "text/html": [
       "<div>\n",
       "<style scoped>\n",
       "    .dataframe tbody tr th:only-of-type {\n",
       "        vertical-align: middle;\n",
       "    }\n",
       "\n",
       "    .dataframe tbody tr th {\n",
       "        vertical-align: top;\n",
       "    }\n",
       "\n",
       "    .dataframe thead th {\n",
       "        text-align: right;\n",
       "    }\n",
       "</style>\n",
       "<table border=\"1\" class=\"dataframe\">\n",
       "  <thead>\n",
       "    <tr style=\"text-align: right;\">\n",
       "      <th></th>\n",
       "      <th>month</th>\n",
       "      <th>count</th>\n",
       "    </tr>\n",
       "  </thead>\n",
       "  <tbody>\n",
       "    <tr>\n",
       "      <th>0</th>\n",
       "      <td>Jan</td>\n",
       "      <td>6866</td>\n",
       "    </tr>\n",
       "    <tr>\n",
       "      <th>1</th>\n",
       "      <td>Feb</td>\n",
       "      <td>6942</td>\n",
       "    </tr>\n",
       "    <tr>\n",
       "      <th>2</th>\n",
       "      <td>Mar</td>\n",
       "      <td>4209</td>\n",
       "    </tr>\n",
       "    <tr>\n",
       "      <th>3</th>\n",
       "      <td>Apr</td>\n",
       "      <td>456</td>\n",
       "    </tr>\n",
       "    <tr>\n",
       "      <th>4</th>\n",
       "      <td>May</td>\n",
       "      <td>1039</td>\n",
       "    </tr>\n",
       "    <tr>\n",
       "      <th>5</th>\n",
       "      <td>Jun</td>\n",
       "      <td>1837</td>\n",
       "    </tr>\n",
       "    <tr>\n",
       "      <th>6</th>\n",
       "      <td>Jul</td>\n",
       "      <td>4876</td>\n",
       "    </tr>\n",
       "    <tr>\n",
       "      <th>7</th>\n",
       "      <td>Aug</td>\n",
       "      <td>7665</td>\n",
       "    </tr>\n",
       "    <tr>\n",
       "      <th>8</th>\n",
       "      <td>Sep</td>\n",
       "      <td>7180</td>\n",
       "    </tr>\n",
       "    <tr>\n",
       "      <th>9</th>\n",
       "      <td>Oct</td>\n",
       "      <td>6587</td>\n",
       "    </tr>\n",
       "    <tr>\n",
       "      <th>10</th>\n",
       "      <td>Nov</td>\n",
       "      <td>2554</td>\n",
       "    </tr>\n",
       "    <tr>\n",
       "      <th>11</th>\n",
       "      <td>Dec</td>\n",
       "      <td>1985</td>\n",
       "    </tr>\n",
       "  </tbody>\n",
       "</table>\n",
       "</div>"
      ],
      "text/plain": [
       "   month  count\n",
       "0    Jan   6866\n",
       "1    Feb   6942\n",
       "2    Mar   4209\n",
       "3    Apr    456\n",
       "4    May   1039\n",
       "5    Jun   1837\n",
       "6    Jul   4876\n",
       "7    Aug   7665\n",
       "8    Sep   7180\n",
       "9    Oct   6587\n",
       "10   Nov   2554\n",
       "11   Dec   1985"
      ]
     },
     "execution_count": 11,
     "metadata": {},
     "output_type": "execute_result"
    }
   ],
   "source": [
    "dropped = ['reviewer_id']\n",
    "df_2020.drop(dropped,axis=1,inplace=True)\n",
    "df_2019.drop(dropped,axis=1,inplace=True)\n",
    "df_2018.drop(dropped,axis=1,inplace=True)\n",
    "df_2017.drop(dropped,axis=1,inplace=True)\n",
    "df_2020 = df_2020.drop_duplicates()\n",
    "df_2019 = df_2019.drop_duplicates()\n",
    "df_2018 = df_2018.drop_duplicates()\n",
    "df_2017 = df_2017.drop_duplicates()\n",
    "df_2020=df_2020.reset_index(drop=True)\n",
    "df_2019=df_2019.reset_index(drop=True)\n",
    "df_2018=df_2018.reset_index(drop=True)\n",
    "df_2017=df_2017.reset_index(drop=True)\n",
    "\n",
    "df_2020"
   ]
  },
  {
   "cell_type": "code",
   "execution_count": 12,
   "id": "dda5a72b",
   "metadata": {},
   "outputs": [
    {
     "data": {
      "image/png": "[encoded data removed]",
      "text/plain": [
       "<Figure size 1440x432 with 4 Axes>"
      ]
     },
     "metadata": {
      "needs_background": "light"
     },
     "output_type": "display_data"
    }
   ],
   "source": [
    "\n",
    "fig = plt.figure(figsize=(20, 6))\n",
    "ax0 = fig.add_subplot(2, 2, 1)\n",
    "ax1 = fig.add_subplot(2, 2, 2)\n",
    "ax2 = fig.add_subplot(2, 2, 3)\n",
    "ax3 = fig.add_subplot(2, 2, 4)\n",
    "\n",
    "df_2020.plot(kind='line', color='blue', x='month',y='count',marker='o',ax=ax0) # add to subplot 1\n",
    "ax0.set_title('Visitors trend in 2020')\n",
    "ax0.set_xlabel('Month')\n",
    "ax0.set_ylabel('Number of visitors')\n",
    "\n",
    "df_2019.plot(kind='line', color='red', x='month',y='count',marker='o',ax=ax1) # add to subplot 2\n",
    "ax1.set_title('Visitors trend in 2019')\n",
    "ax1.set_xlabel('Month')\n",
    "ax1.set_ylabel('Number of visitors')\n",
    "\n",
    "df_2018.plot(kind='line', color='cyan', x='month',y='count',marker='o',ax=ax2) # add to subplot 3\n",
    "ax2.set_title('Visitors trend in 2018')\n",
    "ax2.set_xlabel('Month')\n",
    "ax2.set_ylabel('Number of visitors')\n",
    "\n",
    "df_2017.plot(kind='line', color='green', x='month',y='count',marker='o',ax=ax3) # add to subplot 4\n",
    "ax3.set_title('Visitors trend in 2017')\n",
    "ax3.set_xlabel('Month')\n",
    "ax3.set_ylabel('Number of visitors')\n",
    "\n",
    "plt.subplots_adjust(top = 0.99, bottom=0.01, hspace=0.5)\n",
    "plt.show()"
   ]
  },
  {
   "cell_type": "markdown",
   "id": "f5965b07",
   "metadata": {},
   "source": [
    "we can see September is the most demanded season 2019-2017 \n",
    "ans august is demand season in 2020\n",
    "janurayand feb is the off season in 2019-17\n",
    "for 2020 its april to may"
   ]
  },
  {
   "cell_type": "code",
   "execution_count": null,
   "id": "8357481e",
   "metadata": {},
   "outputs": [],
   "source": []
  },
  {
   "cell_type": "code",
   "execution_count": null,
   "id": "403a34af",
   "metadata": {},
   "outputs": [],
   "source": []
  }
 ],
 "metadata": {
  "kernelspec": {
   "display_name": "Python 3",
   "language": "python",
   "name": "python3"
  },
  "language_info": {
   "codemirror_mode": {
    "name": "ipython",
    "version": 3
   },
   "file_extension": ".py",
   "mimetype": "text/x-python",
   "name": "python",
   "nbconvert_exporter": "python",
   "pygments_lexer": "ipython3",
   "version": "3.8.8"
  }
 },
 "nbformat": 4,
 "nbformat_minor": 5
}
