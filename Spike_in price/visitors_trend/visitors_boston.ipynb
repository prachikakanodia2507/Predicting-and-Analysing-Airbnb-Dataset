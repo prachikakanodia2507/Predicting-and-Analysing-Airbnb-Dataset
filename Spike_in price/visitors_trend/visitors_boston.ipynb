{
 "cells": [
  {
   "cell_type": "code",
   "execution_count": 1,
   "id": "e926aa0f",
   "metadata": {},
   "outputs": [
    {
     "name": "stdout",
     "output_type": "stream",
     "text": [
      "reviews_summary : (126679, 6)\n"
     ]
    },
    {
     "data": {
      "text/html": [
       "<div>\n",
       "<style scoped>\n",
       "    .dataframe tbody tr th:only-of-type {\n",
       "        vertical-align: middle;\n",
       "    }\n",
       "\n",
       "    .dataframe tbody tr th {\n",
       "        vertical-align: top;\n",
       "    }\n",
       "\n",
       "    .dataframe thead th {\n",
       "        text-align: right;\n",
       "    }\n",
       "</style>\n",
       "<table border=\"1\" class=\"dataframe\">\n",
       "  <thead>\n",
       "    <tr style=\"text-align: right;\">\n",
       "      <th></th>\n",
       "      <th>listing_id</th>\n",
       "      <th>id</th>\n",
       "      <th>date</th>\n",
       "      <th>reviewer_id</th>\n",
       "      <th>reviewer_name</th>\n",
       "      <th>comments</th>\n",
       "    </tr>\n",
       "  </thead>\n",
       "  <tbody>\n",
       "    <tr>\n",
       "      <th>0</th>\n",
       "      <td>3781</td>\n",
       "      <td>37776825</td>\n",
       "      <td>2015-07-10</td>\n",
       "      <td>36059247</td>\n",
       "      <td>Greg</td>\n",
       "      <td>The apartment was as advertised and Frank was ...</td>\n",
       "    </tr>\n",
       "    <tr>\n",
       "      <th>1</th>\n",
       "      <td>3781</td>\n",
       "      <td>41842494</td>\n",
       "      <td>2015-08-09</td>\n",
       "      <td>10459388</td>\n",
       "      <td>Tai</td>\n",
       "      <td>It was a pleasure to stay at Frank's place. Th...</td>\n",
       "    </tr>\n",
       "    <tr>\n",
       "      <th>2</th>\n",
       "      <td>3781</td>\n",
       "      <td>45282151</td>\n",
       "      <td>2015-09-01</td>\n",
       "      <td>12264652</td>\n",
       "      <td>Damien</td>\n",
       "      <td>The apartment description is entirely faithful...</td>\n",
       "    </tr>\n",
       "    <tr>\n",
       "      <th>3</th>\n",
       "      <td>3781</td>\n",
       "      <td>49022647</td>\n",
       "      <td>2015-09-30</td>\n",
       "      <td>41426327</td>\n",
       "      <td>Mike</td>\n",
       "      <td>Thoroughly enjoyed my time at Frank's home. Ha...</td>\n",
       "    </tr>\n",
       "    <tr>\n",
       "      <th>4</th>\n",
       "      <td>3781</td>\n",
       "      <td>52503327</td>\n",
       "      <td>2015-10-30</td>\n",
       "      <td>15151513</td>\n",
       "      <td>Ivan</td>\n",
       "      <td>Great value for the money! This location has e...</td>\n",
       "    </tr>\n",
       "    <tr>\n",
       "      <th>...</th>\n",
       "      <td>...</td>\n",
       "      <td>...</td>\n",
       "      <td>...</td>\n",
       "      <td>...</td>\n",
       "      <td>...</td>\n",
       "      <td>...</td>\n",
       "    </tr>\n",
       "    <tr>\n",
       "      <th>126674</th>\n",
       "      <td>52615785</td>\n",
       "      <td>474617200655639495</td>\n",
       "      <td>2021-10-16</td>\n",
       "      <td>423766055</td>\n",
       "      <td>Abdulkarim</td>\n",
       "      <td>Great location &lt;br/&gt;Steven was a great host co...</td>\n",
       "    </tr>\n",
       "    <tr>\n",
       "      <th>126675</th>\n",
       "      <td>52615817</td>\n",
       "      <td>468829552129880137</td>\n",
       "      <td>2021-10-08</td>\n",
       "      <td>5405281</td>\n",
       "      <td>Sravya</td>\n",
       "      <td>This place is very clean and comfortable. The ...</td>\n",
       "    </tr>\n",
       "    <tr>\n",
       "      <th>126676</th>\n",
       "      <td>52615817</td>\n",
       "      <td>475995853922424583</td>\n",
       "      <td>2021-10-18</td>\n",
       "      <td>38715483</td>\n",
       "      <td>Christopher</td>\n",
       "      <td>Steven was very responsive and communicative. ...</td>\n",
       "    </tr>\n",
       "    <tr>\n",
       "      <th>126677</th>\n",
       "      <td>52653198</td>\n",
       "      <td>471736779685385538</td>\n",
       "      <td>2021-10-12</td>\n",
       "      <td>195662357</td>\n",
       "      <td>Andy</td>\n",
       "      <td>Had a great stay! Very clean home in a quite, ...</td>\n",
       "    </tr>\n",
       "    <tr>\n",
       "      <th>126678</th>\n",
       "      <td>52653198</td>\n",
       "      <td>476003273700976846</td>\n",
       "      <td>2021-10-18</td>\n",
       "      <td>94362552</td>\n",
       "      <td>Jack</td>\n",
       "      <td>Completely private area (entire 3rd floor), pl...</td>\n",
       "    </tr>\n",
       "  </tbody>\n",
       "</table>\n",
       "<p>126679 rows × 6 columns</p>\n",
       "</div>"
      ],
      "text/plain": [
       "        listing_id                  id        date  reviewer_id reviewer_name  \\\n",
       "0             3781            37776825  2015-07-10     36059247          Greg   \n",
       "1             3781            41842494  2015-08-09     10459388           Tai   \n",
       "2             3781            45282151  2015-09-01     12264652        Damien   \n",
       "3             3781            49022647  2015-09-30     41426327          Mike   \n",
       "4             3781            52503327  2015-10-30     15151513          Ivan   \n",
       "...            ...                 ...         ...          ...           ...   \n",
       "126674    52615785  474617200655639495  2021-10-16    423766055    Abdulkarim   \n",
       "126675    52615817  468829552129880137  2021-10-08      5405281        Sravya   \n",
       "126676    52615817  475995853922424583  2021-10-18     38715483   Christopher   \n",
       "126677    52653198  471736779685385538  2021-10-12    195662357          Andy   \n",
       "126678    52653198  476003273700976846  2021-10-18     94362552          Jack   \n",
       "\n",
       "                                                 comments  \n",
       "0       The apartment was as advertised and Frank was ...  \n",
       "1       It was a pleasure to stay at Frank's place. Th...  \n",
       "2       The apartment description is entirely faithful...  \n",
       "3       Thoroughly enjoyed my time at Frank's home. Ha...  \n",
       "4       Great value for the money! This location has e...  \n",
       "...                                                   ...  \n",
       "126674  Great location <br/>Steven was a great host co...  \n",
       "126675  This place is very clean and comfortable. The ...  \n",
       "126676  Steven was very responsive and communicative. ...  \n",
       "126677  Had a great stay! Very clean home in a quite, ...  \n",
       "126678  Completely private area (entire 3rd floor), pl...  \n",
       "\n",
       "[126679 rows x 6 columns]"
      ]
     },
     "execution_count": 1,
     "metadata": {},
     "output_type": "execute_result"
    }
   ],
   "source": [
    "import pandas as pd\n",
    "import matplotlib.pyplot as plt\n",
    "import datetime\n",
    "import warnings\n",
    "df_rsumm = pd.read_csv(\"reviews.csv\")\n",
    "print(\"reviews_summary : \" + str(df_rsumm.shape))\n",
    "df_rsumm"
   ]
  },
  {
   "cell_type": "code",
   "execution_count": 4,
   "id": "393011f2",
   "metadata": {},
   "outputs": [],
   "source": [
    "import datetime\n",
    "def mapper(month):\n",
    "    date = datetime.datetime(2000, month, 1)  # You need a dateobject with the proper month\n",
    "    return date.strftime('%b') "
   ]
  },
  {
   "cell_type": "code",
   "execution_count": 5,
   "id": "af83b9eb",
   "metadata": {},
   "outputs": [],
   "source": [
    "df_rsumm['date'] = pd.to_datetime(df_rsumm['date'])\n",
    "df_rsumm['year'] = df_rsumm['date'].dt.year\n",
    "df_rsumm['month'] = df_rsumm['date'].dt.month\n",
    "df_rsumm['day'] = df_rsumm['date'].dt.day\n",
    "\n",
    "df_rsumm['year'] = df_rsumm['year'].astype(int)\n",
    "df_rsumm['month'] = df_rsumm['month'].astype(int)\n",
    "df_rsumm['day'] = df_rsumm['day'].astype(int)\n",
    "df_rsumm.sort_values(['year', 'month'], ascending=[True, True],axis=0,inplace=True)"
   ]
  },
  {
   "cell_type": "code",
   "execution_count": 6,
   "id": "60d7c7da",
   "metadata": {},
   "outputs": [],
   "source": [
    "df_rsumm['month'] = df_rsumm['month'].apply(mapper)"
   ]
  },
  {
   "cell_type": "code",
   "execution_count": 7,
   "id": "ae715111",
   "metadata": {},
   "outputs": [],
   "source": [
    "df_rsumm_orig = df_rsumm.copy(deep=False) "
   ]
  },
  {
   "cell_type": "code",
   "execution_count": 8,
   "id": "5c84ce6c",
   "metadata": {},
   "outputs": [],
   "source": [
    "dropped = ['reviewer_name','comments']\n",
    "df_rsumm.drop(dropped,axis=1,inplace=True)"
   ]
  },
  {
   "cell_type": "code",
   "execution_count": 9,
   "id": "31097c63",
   "metadata": {},
   "outputs": [
    {
     "data": {
      "text/plain": [
       "2019    30494\n",
       "2018    25445\n",
       "2021    22183\n",
       "2017    16532\n",
       "2020    12787\n",
       "2016     9599\n",
       "2015     5244\n",
       "2014     2414\n",
       "2013     1071\n",
       "2012      524\n",
       "2011      296\n",
       "2010       77\n",
       "2009       13\n",
       "Name: year, dtype: int64"
      ]
     },
     "execution_count": 9,
     "metadata": {},
     "output_type": "execute_result"
    }
   ],
   "source": [
    "df_rsumm['year'].value_counts()"
   ]
  },
  {
   "cell_type": "code",
   "execution_count": 10,
   "id": "8ad2a06d",
   "metadata": {},
   "outputs": [],
   "source": [
    "df_2019 = df_rsumm[df_rsumm['year'] == 2019]\n",
    "df_2018 = df_rsumm[df_rsumm['year'] == 2018]\n",
    "df_2017 = df_rsumm[df_rsumm['year'] == 2017]\n",
    "df_2020 = df_rsumm[df_rsumm['year'] == 2020]"
   ]
  },
  {
   "cell_type": "code",
   "execution_count": 11,
   "id": "85d141a8",
   "metadata": {},
   "outputs": [
    {
     "name": "stderr",
     "output_type": "stream",
     "text": [
      "D:\\anaconda3\\lib\\site-packages\\pandas\\core\\frame.py:4308: SettingWithCopyWarning: \n",
      "A value is trying to be set on a copy of a slice from a DataFrame\n",
      "\n",
      "See the caveats in the documentation: https://pandas.pydata.org/pandas-docs/stable/user_guide/indexing.html#returning-a-view-versus-a-copy\n",
      "  return super().drop(\n"
     ]
    }
   ],
   "source": [
    "dropped = ['year','day','id','date','listing_id']\n",
    "df_2019.drop(dropped,axis=1,inplace=True)\n",
    "df_2018.drop(dropped,axis=1,inplace=True)\n",
    "df_2017.drop(dropped,axis=1,inplace=True)\n",
    "df_2020.drop(dropped,axis=1,inplace=True)"
   ]
  },
  {
   "cell_type": "code",
   "execution_count": 12,
   "id": "b97c923a",
   "metadata": {},
   "outputs": [
    {
     "name": "stderr",
     "output_type": "stream",
     "text": [
      "<ipython-input-12-9a2a7c08a516>:1: SettingWithCopyWarning: \n",
      "A value is trying to be set on a copy of a slice from a DataFrame.\n",
      "Try using .loc[row_indexer,col_indexer] = value instead\n",
      "\n",
      "See the caveats in the documentation: https://pandas.pydata.org/pandas-docs/stable/user_guide/indexing.html#returning-a-view-versus-a-copy\n",
      "  df_2020[\"count\"] = df_2020.groupby(\"month\")[\"reviewer_id\"].transform('count')\n",
      "<ipython-input-12-9a2a7c08a516>:2: SettingWithCopyWarning: \n",
      "A value is trying to be set on a copy of a slice from a DataFrame.\n",
      "Try using .loc[row_indexer,col_indexer] = value instead\n",
      "\n",
      "See the caveats in the documentation: https://pandas.pydata.org/pandas-docs/stable/user_guide/indexing.html#returning-a-view-versus-a-copy\n",
      "  df_2019[\"count\"] = df_2019.groupby(\"month\")[\"reviewer_id\"].transform('count')\n",
      "<ipython-input-12-9a2a7c08a516>:3: SettingWithCopyWarning: \n",
      "A value is trying to be set on a copy of a slice from a DataFrame.\n",
      "Try using .loc[row_indexer,col_indexer] = value instead\n",
      "\n",
      "See the caveats in the documentation: https://pandas.pydata.org/pandas-docs/stable/user_guide/indexing.html#returning-a-view-versus-a-copy\n",
      "  df_2018[\"count\"] = df_2018.groupby(\"month\")[\"reviewer_id\"].transform('count')\n",
      "<ipython-input-12-9a2a7c08a516>:4: SettingWithCopyWarning: \n",
      "A value is trying to be set on a copy of a slice from a DataFrame.\n",
      "Try using .loc[row_indexer,col_indexer] = value instead\n",
      "\n",
      "See the caveats in the documentation: https://pandas.pydata.org/pandas-docs/stable/user_guide/indexing.html#returning-a-view-versus-a-copy\n",
      "  df_2017[\"count\"] = df_2017.groupby(\"month\")[\"reviewer_id\"].transform('count')\n"
     ]
    }
   ],
   "source": [
    "df_2020[\"count\"] = df_2020.groupby(\"month\")[\"reviewer_id\"].transform('count')\n",
    "df_2019[\"count\"] = df_2019.groupby(\"month\")[\"reviewer_id\"].transform('count')\n",
    "df_2018[\"count\"] = df_2018.groupby(\"month\")[\"reviewer_id\"].transform('count')\n",
    "df_2017[\"count\"] = df_2017.groupby(\"month\")[\"reviewer_id\"].transform('count')"
   ]
  },
  {
   "cell_type": "code",
   "execution_count": 13,
   "id": "bae27d85",
   "metadata": {},
   "outputs": [
    {
     "data": {
      "text/html": [
       "<div>\n",
       "<style scoped>\n",
       "    .dataframe tbody tr th:only-of-type {\n",
       "        vertical-align: middle;\n",
       "    }\n",
       "\n",
       "    .dataframe tbody tr th {\n",
       "        vertical-align: top;\n",
       "    }\n",
       "\n",
       "    .dataframe thead th {\n",
       "        text-align: right;\n",
       "    }\n",
       "</style>\n",
       "<table border=\"1\" class=\"dataframe\">\n",
       "  <thead>\n",
       "    <tr style=\"text-align: right;\">\n",
       "      <th></th>\n",
       "      <th>month</th>\n",
       "      <th>count</th>\n",
       "    </tr>\n",
       "  </thead>\n",
       "  <tbody>\n",
       "    <tr>\n",
       "      <th>0</th>\n",
       "      <td>Jan</td>\n",
       "      <td>1457</td>\n",
       "    </tr>\n",
       "    <tr>\n",
       "      <th>1</th>\n",
       "      <td>Feb</td>\n",
       "      <td>1461</td>\n",
       "    </tr>\n",
       "    <tr>\n",
       "      <th>2</th>\n",
       "      <td>Mar</td>\n",
       "      <td>1241</td>\n",
       "    </tr>\n",
       "    <tr>\n",
       "      <th>3</th>\n",
       "      <td>Apr</td>\n",
       "      <td>180</td>\n",
       "    </tr>\n",
       "    <tr>\n",
       "      <th>4</th>\n",
       "      <td>May</td>\n",
       "      <td>342</td>\n",
       "    </tr>\n",
       "    <tr>\n",
       "      <th>5</th>\n",
       "      <td>Jun</td>\n",
       "      <td>551</td>\n",
       "    </tr>\n",
       "    <tr>\n",
       "      <th>6</th>\n",
       "      <td>Jul</td>\n",
       "      <td>1075</td>\n",
       "    </tr>\n",
       "    <tr>\n",
       "      <th>7</th>\n",
       "      <td>Aug</td>\n",
       "      <td>1335</td>\n",
       "    </tr>\n",
       "    <tr>\n",
       "      <th>8</th>\n",
       "      <td>Sep</td>\n",
       "      <td>1331</td>\n",
       "    </tr>\n",
       "    <tr>\n",
       "      <th>9</th>\n",
       "      <td>Oct</td>\n",
       "      <td>1787</td>\n",
       "    </tr>\n",
       "    <tr>\n",
       "      <th>10</th>\n",
       "      <td>Nov</td>\n",
       "      <td>1229</td>\n",
       "    </tr>\n",
       "    <tr>\n",
       "      <th>11</th>\n",
       "      <td>Dec</td>\n",
       "      <td>798</td>\n",
       "    </tr>\n",
       "  </tbody>\n",
       "</table>\n",
       "</div>"
      ],
      "text/plain": [
       "   month  count\n",
       "0    Jan   1457\n",
       "1    Feb   1461\n",
       "2    Mar   1241\n",
       "3    Apr    180\n",
       "4    May    342\n",
       "5    Jun    551\n",
       "6    Jul   1075\n",
       "7    Aug   1335\n",
       "8    Sep   1331\n",
       "9    Oct   1787\n",
       "10   Nov   1229\n",
       "11   Dec    798"
      ]
     },
     "execution_count": 13,
     "metadata": {},
     "output_type": "execute_result"
    }
   ],
   "source": [
    "dropped = ['reviewer_id']\n",
    "df_2020.drop(dropped,axis=1,inplace=True)\n",
    "df_2019.drop(dropped,axis=1,inplace=True)\n",
    "df_2018.drop(dropped,axis=1,inplace=True)\n",
    "df_2017.drop(dropped,axis=1,inplace=True)\n",
    "df_2020 = df_2020.drop_duplicates()\n",
    "df_2019 = df_2019.drop_duplicates()\n",
    "df_2018 = df_2018.drop_duplicates()\n",
    "df_2017 = df_2017.drop_duplicates()\n",
    "df_2020=df_2020.reset_index(drop=True)\n",
    "df_2019=df_2019.reset_index(drop=True)\n",
    "df_2018=df_2018.reset_index(drop=True)\n",
    "df_2017=df_2017.reset_index(drop=True)\n",
    "\n",
    "df_2020"
   ]
  },
  {
   "cell_type": "code",
   "execution_count": 14,
   "id": "dda5a72b",
   "metadata": {},
   "outputs": [
    {
     "data": {
      "image/png": "[encoded data removed]",
      "text/plain": [
       "<Figure size 1440x432 with 4 Axes>"
      ]
     },
     "metadata": {
      "needs_background": "light"
     },
     "output_type": "display_data"
    }
   ],
   "source": [
    "\n",
    "fig = plt.figure(figsize=(20, 6))\n",
    "ax0 = fig.add_subplot(2, 2, 1)\n",
    "ax1 = fig.add_subplot(2, 2, 2)\n",
    "ax2 = fig.add_subplot(2, 2, 3)\n",
    "ax3 = fig.add_subplot(2, 2, 4)\n",
    "\n",
    "df_2020.plot(kind='line', color='blue', x='month',y='count',marker='o',ax=ax0) # add to subplot 1\n",
    "ax0.set_title('Visitors trend in 2020')\n",
    "ax0.set_xlabel('Month')\n",
    "ax0.set_ylabel('Number of visitors')\n",
    "\n",
    "df_2019.plot(kind='line', color='red', x='month',y='count',marker='o',ax=ax1) # add to subplot 2\n",
    "ax1.set_title('Visitors trend in 2019')\n",
    "ax1.set_xlabel('Month')\n",
    "ax1.set_ylabel('Number of visitors')\n",
    "\n",
    "df_2018.plot(kind='line', color='cyan', x='month',y='count',marker='o',ax=ax2) # add to subplot 3\n",
    "ax2.set_title('Visitors trend in 2018')\n",
    "ax2.set_xlabel('Month')\n",
    "ax2.set_ylabel('Number of visitors')\n",
    "\n",
    "df_2017.plot(kind='line', color='green', x='month',y='count',marker='o',ax=ax3) # add to subplot 4\n",
    "ax3.set_title('Visitors trend in 2017')\n",
    "ax3.set_xlabel('Month')\n",
    "ax3.set_ylabel('Number of visitors')\n",
    "\n",
    "plt.subplots_adjust(top = 0.99, bottom=0.01, hspace=0.5)\n",
    "plt.show()"
   ]
  },
  {
   "cell_type": "markdown",
   "id": "f5965b07",
   "metadata": {},
   "source": [
    "we can see october is the most demanded season\n",
    "and also in most cases 2019-2017 januray,feb and dec is the off season excpet in 2020 april is the off season"
   ]
  },
  {
   "cell_type": "code",
   "execution_count": null,
   "id": "8357481e",
   "metadata": {},
   "outputs": [],
   "source": []
  }
 ],
 "metadata": {
  "kernelspec": {
   "display_name": "Python 3",
   "language": "python",
   "name": "python3"
  },
  "language_info": {
   "codemirror_mode": {
    "name": "ipython",
    "version": 3
   },
   "file_extension": ".py",
   "mimetype": "text/x-python",
   "name": "python",
   "nbconvert_exporter": "python",
   "pygments_lexer": "ipython3",
   "version": "3.8.8"
  }
 },
 "nbformat": 4,
 "nbformat_minor": 5
}
